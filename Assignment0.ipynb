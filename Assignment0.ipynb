{
 "cells": [
  {
   "cell_type": "markdown",
   "id": "4f622e19",
   "metadata": {},
   "source": [
    "#### Stage - 1 Registration"
   ]
  },
  {
   "cell_type": "code",
   "execution_count": 71,
   "id": "5ab80c2a",
   "metadata": {},
   "outputs": [],
   "source": [
    "def readfile(filename):\n",
    "    f = open(filename, \"r\")\n",
    "    cred =[]\n",
    "    for x in f:\n",
    "        cred.append(x.replace(\"\\n\",\"\"))\n",
    "        \n",
    "    f.close()\n",
    "    \n",
    "    return cred"
   ]
  },
  {
   "cell_type": "code",
   "execution_count": 72,
   "id": "c5ff51b7",
   "metadata": {},
   "outputs": [],
   "source": [
    "#myfile.txt\n",
    "def writefile(filename,username,password):\n",
    "    f = open(filename, \"a\")\n",
    "    f.write(\"\\n\")\n",
    "    f.write(username)\n",
    "    f.write(\"\\n\")\n",
    "    f.write(password)\n",
    "    f.close()"
   ]
  },
  {
   "cell_type": "code",
   "execution_count": 76,
   "id": "c41b2844",
   "metadata": {},
   "outputs": [
    {
     "name": "stdout",
     "output_type": "stream",
     "text": [
      "Do you want to register or login or forget password: login\n",
      "Enter your login: aadhavan@gmail.com\n",
      "Enter your password: afdkasf\n",
      "login is incorrect,Please register\n"
     ]
    }
   ],
   "source": [
    "import re\n",
    "\n",
    "user = input(\"Do you want to register or login or forget password: \")\n",
    "\n",
    "user = user.lower()\n",
    "\n",
    "if user == 'register':\n",
    "    \n",
    "    username = input(\"Enter your email/username: \")\n",
    "    x = re.search(\"^[a-z].*\\@.[a-z]*\\.[a-z]*\", username)\n",
    "    \n",
    "    password = input(\"Enter your password: \")\n",
    "    y = re.search(\"^(?=.*[a-z])(?=.*[A-Z])(?=.*\\d)(?=.*[@$!%*?&])[A-Za-z\\d@$!%*?&]{8,10}$\", password)\n",
    "    \n",
    "    try:\n",
    "        print(x.group())\n",
    "        print(y.group())\n",
    "        writefile(\"myfile.txt\",username,password)\n",
    "    except:\n",
    "        print(\"Please enter correct username and password\")     \n",
    "       \n",
    "            \n",
    "elif user == 'login':\n",
    "    \n",
    "    userid = input(\"Enter your login: \")\n",
    "    pwd = input(\"Enter your password: \")\n",
    "    \n",
    "    f = open(\"myfile.txt\", \"r\")\n",
    "    cred =[]\n",
    "    for x in f:\n",
    "        cred.append(x.replace(\"\\n\",\"\"))\n",
    "    \n",
    "    if userid in cred and  pwd in cred:\n",
    "        print(\"login is sucessful\")\n",
    "    else:\n",
    "        print(\"login is incorrect,Please register\")\n",
    "        \n",
    "elif user =='forget password':\n",
    "    \n",
    "    userid = input(\"Enter your login: \")\n",
    "    \n",
    "    readfile(\"myfile.txt\")\n",
    "        \n",
    "    if userid in cred:\n",
    "        index = cred.index(userid)\n",
    "        print(\"your password is : \",cred[index+1])\n",
    "    else:\n",
    "        (\"Please register username and password\")\n",
    "    \n",
    "else:\n",
    "    print(\"Choose Correct option: \")"
   ]
  },
  {
   "cell_type": "code",
   "execution_count": null,
   "id": "23d24151",
   "metadata": {},
   "outputs": [],
   "source": []
  },
  {
   "cell_type": "markdown",
   "id": "45df5f01",
   "metadata": {},
   "source": []
  }
 ],
 "metadata": {
  "kernelspec": {
   "display_name": "display-name",
   "language": "python",
   "name": "automl"
  },
  "language_info": {
   "codemirror_mode": {
    "name": "ipython",
    "version": 3
   },
   "file_extension": ".py",
   "mimetype": "text/x-python",
   "name": "python",
   "nbconvert_exporter": "python",
   "pygments_lexer": "ipython3",
   "version": "3.8.12"
  }
 },
 "nbformat": 4,
 "nbformat_minor": 5
}
